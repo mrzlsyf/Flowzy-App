{
 "cells": [
  {
   "cell_type": "code",
   "execution_count": 1,
   "id": "652b146d",
   "metadata": {},
   "outputs": [],
   "source": [
    "SEED = 42\n",
    "BATCH_SIZE = 128\n",
    "EPOCHS = 50\n",
    "DATA_DIR = 'flowers'\n",
    "INPUT_SHAPE = (160, 160, 3)"
   ]
  },
  {
   "cell_type": "code",
   "execution_count": 2,
   "id": "4dc93706",
   "metadata": {},
   "outputs": [
    {
     "name": "stdout",
     "output_type": "stream",
     "text": [
      "Found 3457 images belonging to 5 classes.\n",
      "Found 860 images belonging to 5 classes.\n"
     ]
    }
   ],
   "source": [
    "import tensorflow as tf\n",
    "\n",
    "datagen = tf.keras.preprocessing.image.ImageDataGenerator(\n",
    "    rescale = 1./255,\n",
    "    validation_split = 0.2\n",
    ")\n",
    "\n",
    "train_generator = datagen.flow_from_directory(\n",
    "    DATA_DIR,\n",
    "    batch_size = BATCH_SIZE,\n",
    "    seed = SEED,\n",
    "    target_size = (160, 160),\n",
    "    class_mode = 'categorical',\n",
    "    subset = 'training'\n",
    ")\n",
    "\n",
    "validation_generator = datagen.flow_from_directory(\n",
    "    DATA_DIR,\n",
    "    shuffle = False,\n",
    "    batch_size = BATCH_SIZE,\n",
    "    seed = SEED,\n",
    "    target_size = (160, 160),\n",
    "    class_mode = 'categorical',\n",
    "    subset = 'validation'\n",
    ")"
   ]
  },
  {
   "cell_type": "code",
   "execution_count": 3,
   "id": "07ac1a01",
   "metadata": {},
   "outputs": [
    {
     "data": {
      "text/html": [
       "<div>\n",
       "<style scoped>\n",
       "    .dataframe tbody tr th:only-of-type {\n",
       "        vertical-align: middle;\n",
       "    }\n",
       "\n",
       "    .dataframe tbody tr th {\n",
       "        vertical-align: top;\n",
       "    }\n",
       "\n",
       "    .dataframe thead th {\n",
       "        text-align: right;\n",
       "    }\n",
       "</style>\n",
       "<table border=\"1\" class=\"dataframe\">\n",
       "  <thead>\n",
       "    <tr style=\"text-align: right;\">\n",
       "      <th></th>\n",
       "      <th>id</th>\n",
       "    </tr>\n",
       "  </thead>\n",
       "  <tbody>\n",
       "    <tr>\n",
       "      <th>daisy</th>\n",
       "      <td>0</td>\n",
       "    </tr>\n",
       "    <tr>\n",
       "      <th>dandelion</th>\n",
       "      <td>1</td>\n",
       "    </tr>\n",
       "    <tr>\n",
       "      <th>rose</th>\n",
       "      <td>2</td>\n",
       "    </tr>\n",
       "    <tr>\n",
       "      <th>sunflower</th>\n",
       "      <td>3</td>\n",
       "    </tr>\n",
       "    <tr>\n",
       "      <th>tulip</th>\n",
       "      <td>4</td>\n",
       "    </tr>\n",
       "  </tbody>\n",
       "</table>\n",
       "</div>"
      ],
      "text/plain": [
       "           id\n",
       "daisy       0\n",
       "dandelion   1\n",
       "rose        2\n",
       "sunflower   3\n",
       "tulip       4"
      ]
     },
     "execution_count": 3,
     "metadata": {},
     "output_type": "execute_result"
    }
   ],
   "source": [
    "import pandas as pd\n",
    "\n",
    "class_names = train_generator.class_indices\n",
    "\n",
    "class_df = pd.DataFrame.from_dict(class_names, orient='index', columns=['id'])\n",
    "\n",
    "class_df.head()"
   ]
  },
  {
   "cell_type": "code",
   "execution_count": 4,
   "id": "82825e3e",
   "metadata": {},
   "outputs": [
    {
     "name": "stdout",
     "output_type": "stream",
     "text": [
      "Model: \"model\"\n",
      "_________________________________________________________________\n",
      " Layer (type)                Output Shape              Param #   \n",
      "=================================================================\n",
      " input_2 (InputLayer)        [(None, 160, 160, 3)]     0         \n",
      "                                                                 \n",
      " mobilenetv2_1.00_160 (Funct  (None, 5, 5, 1280)       2257984   \n",
      " ional)                                                          \n",
      "                                                                 \n",
      " flatten (Flatten)           (None, 32000)             0         \n",
      "                                                                 \n",
      " dense (Dense)               (None, 5)                 160005    \n",
      "                                                                 \n",
      "=================================================================\n",
      "Total params: 2,417,989\n",
      "Trainable params: 160,005\n",
      "Non-trainable params: 2,257,984\n",
      "_________________________________________________________________\n"
     ]
    }
   ],
   "source": [
    "model = tf.keras.applications.MobileNetV2(include_top=False, input_shape=INPUT_SHAPE)\n",
    "model.trainable = False\n",
    "\n",
    "input_layer = tf.keras.Input(shape=INPUT_SHAPE)\n",
    "\n",
    "model_layers = model(input_layer)\n",
    "model_layers = tf.keras.layers.Flatten()(model_layers)\n",
    "output_layer = tf.keras.layers.Dense(len(class_df), activation='softmax')(model_layers)\n",
    "\n",
    "model = tf.keras.Model(input_layer, output_layer)\n",
    "\n",
    "model.summary()"
   ]
  },
  {
   "cell_type": "code",
   "execution_count": 5,
   "id": "5c165917",
   "metadata": {},
   "outputs": [],
   "source": [
    "class myCallback(tf.keras.callbacks.Callback):\n",
    "    def on_epoch_end(self, epoch, logs={}):\n",
    "        if(logs.get('val_accuracy')>0.85):\n",
    "            print(\"\\nTraining dihentikan karena akurasi sudah lebih dari 85%\")\n",
    "            self.model.stop_training = True\n",
    "\n",
    "callbacks = myCallback()"
   ]
  },
  {
   "cell_type": "code",
   "execution_count": 6,
   "id": "9e1e8915",
   "metadata": {},
   "outputs": [],
   "source": [
    "model.compile(optimizer = 'Adam',\n",
    "             loss = 'categorical_crossentropy',\n",
    "             metrics = ['accuracy',tf.keras.metrics.Precision(), tf.keras.metrics.Recall()])"
   ]
  },
  {
   "cell_type": "code",
   "execution_count": 7,
   "id": "490bf8c8",
   "metadata": {},
   "outputs": [
    {
     "name": "stdout",
     "output_type": "stream",
     "text": [
      "Epoch 1/50\n",
      "27/27 [==============================] - 110s 4s/step - loss: 1.5529 - accuracy: 0.7137 - precision: 0.7274 - recall: 0.7077 - val_loss: 1.0503 - val_accuracy: 0.7891 - val_precision: 0.7961 - val_recall: 0.7878\n",
      "Epoch 2/50\n",
      "27/27 [==============================] - 102s 4s/step - loss: 0.4991 - accuracy: 0.8922 - precision: 0.8951 - recall: 0.8895 - val_loss: 1.4366 - val_accuracy: 0.7878 - val_precision: 0.7919 - val_recall: 0.7878\n",
      "Epoch 3/50\n",
      "27/27 [==============================] - 102s 4s/step - loss: 0.3731 - accuracy: 0.9252 - precision: 0.9265 - recall: 0.9240 - val_loss: 0.9171 - val_accuracy: 0.8464 - val_precision: 0.8508 - val_recall: 0.8464\n",
      "Epoch 4/50\n",
      "27/27 [==============================] - ETA: 0s - loss: 0.0699 - accuracy: 0.9772 - precision: 0.9780 - recall: 0.9769\n",
      "Training dihentikan karena akurasi sudah lebih dari 85%\n",
      "27/27 [==============================] - 102s 4s/step - loss: 0.0699 - accuracy: 0.9772 - precision: 0.9780 - recall: 0.9769 - val_loss: 0.8763 - val_accuracy: 0.8555 - val_precision: 0.8573 - val_recall: 0.8529\n"
     ]
    }
   ],
   "source": [
    "history = model.fit(\n",
    "    train_generator,\n",
    "    workers = 8, \n",
    "    steps_per_epoch = train_generator.samples // BATCH_SIZE, \n",
    "    epochs = EPOCHS, \n",
    "    validation_data = validation_generator, \n",
    "    validation_steps = validation_generator.samples // BATCH_SIZE, \n",
    "    callbacks = callbacks)"
   ]
  },
  {
   "cell_type": "code",
   "execution_count": 8,
   "id": "eab835c3",
   "metadata": {},
   "outputs": [
    {
     "data": {
      "image/png": "[encoded data removed]",
      "text/plain": [
       "<Figure size 432x288 with 1 Axes>"
      ]
     },
     "metadata": {
      "needs_background": "light"
     },
     "output_type": "display_data"
    },
    {
     "data": {
      "text/plain": [
       "<Figure size 432x288 with 0 Axes>"
      ]
     },
     "metadata": {},
     "output_type": "display_data"
    }
   ],
   "source": [
    "import matplotlib.pyplot as plt\n",
    "\n",
    "acc = history.history['accuracy']\n",
    "val_acc = history.history['val_accuracy']\n",
    "loss = history.history['loss']\n",
    "val_loss = history.history['val_loss']\n",
    "\n",
    "epochs = range(len(acc))\n",
    "\n",
    "plt.plot(epochs, acc, 'r', label='Training Accuracy')\n",
    "plt.plot(epochs, val_acc, 'b', label='Validation Accuracy')\n",
    "\n",
    "plt.title('Training and Validation Accuracy')\n",
    "\n",
    "plt.legend(loc=0)\n",
    "plt.figure()\n",
    "\n",
    "plt.show()"
   ]
  },
  {
   "cell_type": "code",
   "execution_count": 9,
   "id": "83cf3345",
   "metadata": {},
   "outputs": [
    {
     "name": "stdout",
     "output_type": "stream",
     "text": [
      "              precision    recall  f1-score   support\n",
      "\n",
      "           0       0.89      0.95      0.92       152\n",
      "           1       0.92      0.83      0.88       210\n",
      "           2       0.81      0.84      0.83       156\n",
      "           3       0.76      0.91      0.83       146\n",
      "           4       0.88      0.78      0.83       196\n",
      "\n",
      "    accuracy                           0.86       860\n",
      "   macro avg       0.85      0.86      0.86       860\n",
      "weighted avg       0.86      0.86      0.86       860\n",
      "\n"
     ]
    }
   ],
   "source": [
    "from sklearn.metrics import classification_report\n",
    "import numpy as np\n",
    "\n",
    "probas = model.predict(validation_generator)\n",
    "y_pred = np.argmax(probas, axis=1)\n",
    "y_true = validation_generator.classes\n",
    "\n",
    "print(classification_report(y_true,y_pred))"
   ]
  },
  {
   "cell_type": "code",
   "execution_count": 10,
   "id": "8e9a24eb",
   "metadata": {},
   "outputs": [
    {
     "name": "stderr",
     "output_type": "stream",
     "text": [
      "C:\\Users\\peija\\anaconda3\\envs\\notebook-6.4.6\\lib\\site-packages\\keras\\engine\\functional.py:1410: CustomMaskWarning: Custom mask layers require a config and must override get_config. When loading, the custom mask layer must be passed to the custom_objects argument.\n",
      "  layer_config = serialize_layer_fn(layer)\n"
     ]
    }
   ],
   "source": [
    "model.save(\"mobilnetflowzy.h5\")"
   ]
  }
 ],
 "metadata": {
  "kernelspec": {
   "display_name": "Python [conda env:base] *",
   "language": "python",
   "name": "conda-base-py"
  },
  "language_info": {
   "codemirror_mode": {
    "name": "ipython",
    "version": 3
   },
   "file_extension": ".py",
   "mimetype": "text/x-python",
   "name": "python",
   "nbconvert_exporter": "python",
   "pygments_lexer": "ipython3",
   "version": "3.12.7"
  }
 },
 "nbformat": 4,
 "nbformat_minor": 5
}
